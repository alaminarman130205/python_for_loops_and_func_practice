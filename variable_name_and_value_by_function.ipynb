{
 "cells": [
  {
   "cell_type": "markdown",
   "id": "09bcac81",
   "metadata": {},
   "source": [
    "8. variable name and value find by function **args argument"
   ]
  },
  {
   "cell_type": "code",
   "execution_count": 1,
   "id": "d987023e",
   "metadata": {},
   "outputs": [
    {
     "name": "stdout",
     "output_type": "stream",
     "text": [
      "variable name is a and the value is 3\n",
      "variable name is b and the value is cc\n",
      "variable name is y and the value is 6.7\n",
      "variable name is k and the value is bcc\n"
     ]
    }
   ],
   "source": [
    "def valueFind(**args):\n",
    "    for x in args:\n",
    "        print(\"variable name is\", x , \"and the value is\", args[x])\n",
    "        \n",
    "valueFind(a = 3, b = \"cc\", y = 6.7, k  = \"bcc\")"
   ]
  },
  {
   "cell_type": "code",
   "execution_count": 3,
   "id": "863800d0",
   "metadata": {},
   "outputs": [],
   "source": [
    " def checkIfNotNumeric(*args):\n",
    "        for i in args:\n",
    "            if not(isinstance(i(int, float))): \n",
    "                return False\n",
    "        return True\n",
    "    \n",
    "def addNumerics(*args): \n",
    "    s = 0\n",
    "    for x in args:\n",
    "        s+=x\n",
    "    return s\n",
    "\n",
    "myName = \"python course\""
   ]
  },
  {
   "cell_type": "code",
   "execution_count": 15,
   "id": "71d4b465",
   "metadata": {},
   "outputs": [
    {
     "data": {
      "text/plain": [
       "True"
      ]
     },
     "execution_count": 15,
     "metadata": {},
     "output_type": "execute_result"
    }
   ],
   "source": [
    "import sys \n",
    "sys.path.append('C:/Users/USER/abc/')\n",
    "import function_check as fc\n",
    "fc.checkNumerics('alain')\n",
    "from function_check import checkNumerics as cn\n",
    "cn(23)"
   ]
  },
  {
   "cell_type": "markdown",
   "id": "b608d8ad",
   "metadata": {},
   "source": [
    "9. given a list of number i.e [1,2,4,-5,7,9,3,4] make another that contains all the items in shorted order from min to max. i.e. your result will be another list like this [-5, 1, 2, 3, 4, 4, 7, 9]\n"
   ]
  },
  {
   "cell_type": "code",
   "execution_count": 20,
   "id": "391a51ad",
   "metadata": {},
   "outputs": [
    {
     "name": "stdout",
     "output_type": "stream",
     "text": [
      "string d costa\n"
     ]
    }
   ],
   "source": [
    "a = \"string d costa\"\n",
    "b = a.strip()\n",
    "\n",
    "print(b)"
   ]
  },
  {
   "cell_type": "markdown",
   "id": "9a0d24af",
   "metadata": {},
   "source": [
    "DATA STRUCTURE AND ACCESS OF THOSE"
   ]
  },
  {
   "cell_type": "code",
   "execution_count": 24,
   "id": "e5951749",
   "metadata": {},
   "outputs": [],
   "source": [
    "l = [1,2,3,4,5,\"name\",\"kader\"]\n",
    "t = (21,3,5,6,\"alamin\")\n",
    "s = {2,3,5,65,34,\"arman\"}\n",
    "d = {3:'TWO',\"b\":33,\"c\":'cdd'}"
   ]
  },
  {
   "cell_type": "code",
   "execution_count": 25,
   "id": "a9ca9403",
   "metadata": {},
   "outputs": [
    {
     "name": "stdout",
     "output_type": "stream",
     "text": [
      "the type of l is <class 'list'>\n",
      "the type of t is <class 'tuple'>\n",
      "the type of s is  <class 'set'>\n",
      "the type of d is  <class 'dict'>\n"
     ]
    }
   ],
   "source": [
    "print(\"the type of l is\", type(l))\n",
    "print(\"the type of t is\", type(t))\n",
    "print(\"the type of s is \", type(s))\n",
    "print(\"the type of d is \", type(d))\n"
   ]
  },
  {
   "cell_type": "code",
   "execution_count": 28,
   "id": "d8bf7c69",
   "metadata": {},
   "outputs": [
    {
     "name": "stdout",
     "output_type": "stream",
     "text": [
      "2\n",
      "3\n",
      "True\n",
      "TWO\n"
     ]
    }
   ],
   "source": [
    "print(l[1])\n",
    "print(t[1])\n",
    "print(3 in s)\n",
    "print(d[3])"
   ]
  },
  {
   "cell_type": "code",
   "execution_count": null,
   "id": "b4e0f585",
   "metadata": {},
   "outputs": [],
   "source": []
  }
 ],
 "metadata": {
  "kernelspec": {
   "display_name": "Python 3 (ipykernel)",
   "language": "python",
   "name": "python3"
  },
  "language_info": {
   "codemirror_mode": {
    "name": "ipython",
    "version": 3
   },
   "file_extension": ".py",
   "mimetype": "text/x-python",
   "name": "python",
   "nbconvert_exporter": "python",
   "pygments_lexer": "ipython3",
   "version": "3.9.13"
  }
 },
 "nbformat": 4,
 "nbformat_minor": 5
}
