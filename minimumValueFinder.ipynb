{
 "cells": [
  {
   "cell_type": "markdown",
   "id": "6187b663",
   "metadata": {},
   "source": [
    "1. given a list of number i.e [1,2,4,-5,7,9,3,4] make another that contains all the items in shorted order from min to max. i.e. your result will be another list like this [-5, 1, 2, 3, 4, 4, 7, 9] "
   ]
  },
  {
   "cell_type": "code",
   "execution_count": 111,
   "id": "e5eca6bd",
   "metadata": {},
   "outputs": [
    {
     "name": "stdout",
     "output_type": "stream",
     "text": [
      "[-5, 1, 2, 3, 4, 4, 7, 9]\n"
     ]
    }
   ],
   "source": [
    "L = [1,2,4,-5,7,9,3,4]\n",
    "for j in range(len(L)):\n",
    "    m  = L[j]\n",
    "    idx = j\n",
    "    c = j\n",
    "    for i in range(j, len(L)):\n",
    "        if L[i]<m:\n",
    "            m = L[i]\n",
    "            idx = c\n",
    "        c+=1\n",
    "    tmp = L[j]\n",
    "    L[j] = m\n",
    "    L[idx] = tmp\n",
    "print(L)"
   ]
  },
  {
   "cell_type": "markdown",
   "id": "b845c683",
   "metadata": {},
   "source": [
    "2. print out the basic for loop with append function init"
   ]
  },
  {
   "cell_type": "code",
   "execution_count": 123,
   "id": "37234ae0",
   "metadata": {
    "scrolled": true
   },
   "outputs": [
    {
     "name": "stdout",
     "output_type": "stream",
     "text": [
      "1\n",
      "2\n",
      "3\n",
      "4\n",
      "5\n",
      "6\n",
      "7\n",
      "8\n",
      "9\n",
      "10\n",
      "[2, 3, 4, 1, 4, 9, 16, 25, 36, 49, 64, 81, 100]\n"
     ]
    }
   ],
   "source": [
    "l = [2,3,4]\n",
    "for i in range(10): \n",
    "    k = i+1\n",
    "    print(k)\n",
    "    l.append(k**2)\n",
    "print(l)"
   ]
  },
  {
   "cell_type": "markdown",
   "id": "d27a9807",
   "metadata": {},
   "source": [
    "3. for loop with start stop step example"
   ]
  },
  {
   "cell_type": "code",
   "execution_count": 129,
   "id": "48dbf5b9",
   "metadata": {},
   "outputs": [
    {
     "name": "stdout",
     "output_type": "stream",
     "text": [
      "1\n",
      "4\n",
      "7\n",
      "10\n",
      "13\n",
      "16\n",
      "19\n",
      "[1, 16, 49, 100, 169, 256, 361]\n"
     ]
    }
   ],
   "source": [
    "l = []\n",
    "for i in range(1, 20, 3): \n",
    "    print(i)\n",
    "    l.append(i**2)\n",
    "print(l)"
   ]
  },
  {
   "cell_type": "markdown",
   "id": "cf73e5a6",
   "metadata": {},
   "source": [
    " 4. using else in for loop "
   ]
  },
  {
   "cell_type": "code",
   "execution_count": 135,
   "id": "1df81c6e",
   "metadata": {},
   "outputs": [
    {
     "name": "stdout",
     "output_type": "stream",
     "text": [
      "apple\n",
      "orange\n",
      "3.5\n",
      "outside the loop\n"
     ]
    }
   ],
   "source": [
    "s = {\"apple\",3.5, \"orange\"}\n",
    "i = 1\n",
    "for x in s: \n",
    "    print(x)\n",
    "    i+=1\n",
    "    if i==4: \n",
    "        break\n",
    "    else: \n",
    "        pass\n",
    "else:\n",
    "    print(\"loop terminate with success\")\n",
    "print(\"outside the loop\")\n",
    "    "
   ]
  },
  {
   "cell_type": "markdown",
   "id": "74d2ae99",
   "metadata": {},
   "source": [
    "5 function to check the input  type"
   ]
  },
  {
   "cell_type": "code",
   "execution_count": 140,
   "id": "c95f95ba",
   "metadata": {},
   "outputs": [
    {
     "name": "stdout",
     "output_type": "stream",
     "text": [
      "your function is not holding string\n",
      "here is the type of the value you supplied <class 'int'>\n"
     ]
    }
   ],
   "source": [
    "def printFunc(msg):\n",
    "    if isinstance(msg, str): \n",
    "        print(msg)\n",
    "    else:\n",
    "        print(\"your function is not holding string\")\n",
    "        print('here is the type of the value you supplied', type(msg))\n",
    "\n",
    "printFunc(23)"
   ]
  },
  {
   "cell_type": "code",
   "execution_count": 141,
   "id": "61240537",
   "metadata": {},
   "outputs": [],
   "source": [
    "printFunc?"
   ]
  },
  {
   "cell_type": "code",
   "execution_count": 143,
   "id": "1f117450",
   "metadata": {},
   "outputs": [
    {
     "name": "stdout",
     "output_type": "stream",
     "text": [
      "Help on function printFunc in module __main__:\n",
      "\n",
      "printFunc(msg)\n",
      "\n"
     ]
    }
   ],
   "source": [
    "printFunc??\n",
    "help(printFunc)"
   ]
  },
  {
   "cell_type": "code",
   "execution_count": 148,
   "id": "745ccda8",
   "metadata": {},
   "outputs": [],
   "source": [
    "def myadd(a,b): \n",
    "    sumValue = a + b\n",
    "    return sumValue"
   ]
  },
  {
   "cell_type": "code",
   "execution_count": 149,
   "id": "ebaa8927",
   "metadata": {},
   "outputs": [
    {
     "name": "stdout",
     "output_type": "stream",
     "text": [
      "3\n"
     ]
    }
   ],
   "source": [
    "d = myadd(1,2)\n",
    "print(d)"
   ]
  },
  {
   "cell_type": "markdown",
   "id": "acc14bbe",
   "metadata": {},
   "source": [
    "6. *args function with for loop in python practice"
   ]
  },
  {
   "cell_type": "code",
   "execution_count": 155,
   "id": "2f600702",
   "metadata": {},
   "outputs": [
    {
     "data": {
      "text/plain": [
       "5"
      ]
     },
     "execution_count": 155,
     "metadata": {},
     "output_type": "execute_result"
    }
   ],
   "source": [
    "def myAddUniverse(*args):\n",
    "    s = 0\n",
    "    for i in range(len(args)):\n",
    "        s += args[i]\n",
    "    return s\n",
    "        "
   ]
  },
  {
   "cell_type": "code",
   "execution_count": 157,
   "id": "7fab94d9",
   "metadata": {},
   "outputs": [
    {
     "name": "stdout",
     "output_type": "stream",
     "text": [
      "5\n"
     ]
    }
   ],
   "source": [
    "l = myAddUniverse(2,3)\n",
    "print(l)"
   ]
  }
 ],
 "metadata": {
  "kernelspec": {
   "display_name": "Python 3 (ipykernel)",
   "language": "python",
   "name": "python3"
  },
  "language_info": {
   "codemirror_mode": {
    "name": "ipython",
    "version": 3
   },
   "file_extension": ".py",
   "mimetype": "text/x-python",
   "name": "python",
   "nbconvert_exporter": "python",
   "pygments_lexer": "ipython3",
   "version": "3.9.13"
  }
 },
 "nbformat": 4,
 "nbformat_minor": 5
}
